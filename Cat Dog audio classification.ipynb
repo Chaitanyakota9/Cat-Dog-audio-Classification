{
 "cells": [
  {
   "cell_type": "code",
   "execution_count": 1,
   "id": "22bfa544",
   "metadata": {},
   "outputs": [],
   "source": [
    "import warnings\n",
    "warnings.filterwarnings('ignore')\n",
    "import pandas as pd\n",
    "import numpy as np\n",
    "import librosa\n",
    "import matplotlib.pyplot as plt\n",
    "\n",
    "import os\n",
    "from PIL import Image\n",
    "from pathlib import Path\n",
    "import csv\n",
    "\n",
    "from sklearn.model_selection import train_test_split\n",
    "from sklearn.preprocessing import LabelEncoder, StandardScaler\n",
    "\n",
    "from sklearn.linear_model import LinearRegression\n",
    "from sklearn.svm import SVC\n",
    "from sklearn.ensemble import RandomForestClassifier\n",
    "\n",
    "import tensorflow as tf\n",
    "import librosa.display\n",
    "import librosa\n",
    "import numpy as np\n",
    "import pandas as pd\n",
    "from tensorflow.keras.utils import to_categorical\n",
    "from sklearn.preprocessing import LabelEncoder\n",
    "from sklearn.model_selection import train_test_split\n",
    "from tensorflow.keras.models import Sequential\n",
    "from tensorflow.keras.layers import Dense,Dropout,Activation,Flatten\n",
    "from tensorflow.keras.optimizers import Adam\n",
    "from sklearn import metrics\n",
    "import tensorflow.keras.layers as layers\n",
    "import IPython.display as ipd"
   ]
  },
  {
   "cell_type": "code",
   "execution_count": 8,
   "id": "cadf81b2",
   "metadata": {},
   "outputs": [],
   "source": [
    "### Let's read a sample audio using librosa\n",
    "import librosa\n",
    "audio_file_path=\"C:/Users/swaru/OneDrive/Desktop/dataset/dog/dog_barking_2.wav\"\n",
    "librosa_audio_data,librosa_sample_rate=librosa.load(audio_file_path)"
   ]
  },
  {
   "cell_type": "code",
   "execution_count": 9,
   "id": "ac4a1f02",
   "metadata": {},
   "outputs": [
    {
     "name": "stdout",
     "output_type": "stream",
     "text": [
      "[-0.00332317 -0.00706442 -0.00959436 ...  0.0133674   0.01507414\n",
      "  0.00940705]\n"
     ]
    }
   ],
   "source": [
    "print(librosa_audio_data)"
   ]
  },
  {
   "cell_type": "code",
   "execution_count": 10,
   "id": "f0391195",
   "metadata": {},
   "outputs": [
    {
     "name": "stdout",
     "output_type": "stream",
     "text": [
      "(40, 513)\n"
     ]
    }
   ],
   "source": [
    "mfccs = librosa.feature.mfcc(y=librosa_audio_data, sr=librosa_sample_rate, n_mfcc=40)\n",
    "print(mfccs.shape)"
   ]
  },
  {
   "cell_type": "code",
   "execution_count": 11,
   "id": "26266e70",
   "metadata": {},
   "outputs": [],
   "source": [
    "a=[]\n",
    "a.append(mfccs)"
   ]
  },
  {
   "cell_type": "code",
   "execution_count": null,
   "id": "13b20bb2",
   "metadata": {},
   "outputs": [],
   "source": [
    "## Data preprocessing"
   ]
  },
  {
   "cell_type": "code",
   "execution_count": null,
   "id": "c224ebf0",
   "metadata": {},
   "outputs": [],
   "source": [
    "#SPECTOGRAM AGUMENTATION\n",
    "\"\"\"def get_spectrogram(wav):\n",
    "    D = librosa.stft(wav, n_fft=480, hop_length=160,\n",
    "                     win_length=480, window='hamming')\n",
    "    spect, phase = librosa.magphase(D)\n",
    "    return spect\"\"\""
   ]
  },
  {
   "cell_type": "code",
   "execution_count": 40,
   "id": "87e52f74",
   "metadata": {},
   "outputs": [
    {
     "data": {
      "text/plain": [
       "\"start_ = int(np.random.uniform(-4800,4800))\\nprint('time shift: ',start_)\\nif start_ >= 0:\\n    wav_time_shift = np.r_[wav[start_:], np.random.uniform(-0.001,0.001, start_)]\\nelse:\\n    wav_time_shift = np.r_[np.random.uniform(-0.001,0.001, -start_), wav[:start_]]\\nipd.Audio(wav_time_shift,\\xa0rate=sr)\""
      ]
     },
     "execution_count": 40,
     "metadata": {},
     "output_type": "execute_result"
    }
   ],
   "source": [
    "#Audio Agumentation - Time shifting\n",
    "\"\"\"start_ = int(np.random.uniform(-4800,4800))\n",
    "print('time shift: ',start_)\n",
    "if start_ >= 0:\n",
    "    wav_time_shift = np.r_[wav[start_:], np.random.uniform(-0.001,0.001, start_)]\n",
    "else:\n",
    "    wav_time_shift = np.r_[np.random.uniform(-0.001,0.001, -start_), wav[:start_]]\n",
    "ipd.Audio(wav_time_shift, rate=sr)\"\"\""
   ]
  },
  {
   "cell_type": "code",
   "execution_count": null,
   "id": "e654f1b0",
   "metadata": {},
   "outputs": [],
   "source": [
    "#speed tuning\n",
    "\"\"\"\n",
    "speed_rate = np.random.uniform(0.7,1.3)\n",
    "wav_speed_tune = cv2.resize(wav, (1, int(len(wav) * speed_rate))).squeeze()\n",
    "print('speed rate: %.3f' % speed_rate, '(lower is faster)')\n",
    "if len(wav_speed_tune) < 16000:\n",
    "    pad_len = 16000 - len(wav_speed_tune)\n",
    "    wav_speed_tune = np.r_[np.random.uniform(-0.001,0.001,int(pad_len/2)),\n",
    "                           wav_speed_tune,\n",
    "                           np.random.uniform(-0.001,0.001,int(np.ceil(pad_len/2)))]\n",
    "else: \n",
    "    cut_len = len(wav_speed_tune) - 16000\n",
    "    wav_speed_tune = wav_speed_tune[int(cut_len/2):int(cut_len/2)+16000]\n",
    "print('wav length: ', wav_speed_tune.shape[0])\n",
    "ipd.Audio(wav_speed_tune, rate=sr)\"\"\""
   ]
  },
  {
   "cell_type": "code",
   "execution_count": 12,
   "id": "07515a8b",
   "metadata": {},
   "outputs": [
    {
     "data": {
      "text/plain": [
       "<matplotlib.collections.QuadMesh at 0x1d0e9fc8340>"
      ]
     },
     "execution_count": 12,
     "metadata": {},
     "output_type": "execute_result"
    },
    {
     "data": {
      "image/png": "[encoded data removed]",
      "text/plain": [
       "<Figure size 432x288 with 1 Axes>"
      ]
     },
     "metadata": {
      "needs_background": "light"
     },
     "output_type": "display_data"
    }
   ],
   "source": [
    "librosa.display.specshow(mfccs, y_axis='linear')"
   ]
  },
  {
   "cell_type": "code",
   "execution_count": 14,
   "id": "f134565c",
   "metadata": {},
   "outputs": [],
   "source": [
    "import numpy as np\n",
    "dataset = []\n",
    "cla=[]\n",
    "genres = {'cat': 0, 'dog': 1}\n",
    "\n",
    "for genre, genre_number in genres.items():\n",
    "    for filename in os.listdir(f'C:/Users/swaru/OneDrive/Desktop/dataset/{genre}'):\n",
    "        songname = f'C:/Users/swaru/OneDrive/Desktop/dataset/{genre}/{filename}'\n",
    "        for index in range(14):\n",
    "            audio, sr = librosa.load(songname)\n",
    "            mfcc_fea = np.mean(librosa.feature.mfcc(y=audio, sr=sr, n_mfcc=40).T,axis=0)\n",
    "            fea_class=genre\n",
    "            dataset.append(mfcc_fea)\n",
    "            cla.append(fea_class)"
   ]
  },
  {
   "cell_type": "code",
   "execution_count": 15,
   "id": "b7501bd0",
   "metadata": {},
   "outputs": [],
   "source": [
    "d = {'Features':dataset,'class':cla}"
   ]
  },
  {
   "cell_type": "code",
   "execution_count": 16,
   "id": "f299e87f",
   "metadata": {},
   "outputs": [
    {
     "data": {
      "text/html": [
       "<div>\n",
       "<style scoped>\n",
       "    .dataframe tbody tr th:only-of-type {\n",
       "        vertical-align: middle;\n",
       "    }\n",
       "\n",
       "    .dataframe tbody tr th {\n",
       "        vertical-align: top;\n",
       "    }\n",
       "\n",
       "    .dataframe thead th {\n",
       "        text-align: right;\n",
       "    }\n",
       "</style>\n",
       "<table border=\"1\" class=\"dataframe\">\n",
       "  <thead>\n",
       "    <tr style=\"text-align: right;\">\n",
       "      <th></th>\n",
       "      <th>Features</th>\n",
       "      <th>class</th>\n",
       "    </tr>\n",
       "  </thead>\n",
       "  <tbody>\n",
       "    <tr>\n",
       "      <th>0</th>\n",
       "      <td>[-317.11465, 132.31837, -20.725065, 38.583305,...</td>\n",
       "      <td>cat</td>\n",
       "    </tr>\n",
       "    <tr>\n",
       "      <th>1</th>\n",
       "      <td>[-317.11465, 132.31837, -20.725065, 38.583305,...</td>\n",
       "      <td>cat</td>\n",
       "    </tr>\n",
       "    <tr>\n",
       "      <th>2</th>\n",
       "      <td>[-317.11465, 132.31837, -20.725065, 38.583305,...</td>\n",
       "      <td>cat</td>\n",
       "    </tr>\n",
       "    <tr>\n",
       "      <th>3</th>\n",
       "      <td>[-317.11465, 132.31837, -20.725065, 38.583305,...</td>\n",
       "      <td>cat</td>\n",
       "    </tr>\n",
       "    <tr>\n",
       "      <th>4</th>\n",
       "      <td>[-317.11465, 132.31837, -20.725065, 38.583305,...</td>\n",
       "      <td>cat</td>\n",
       "    </tr>\n",
       "  </tbody>\n",
       "</table>\n",
       "</div>"
      ],
      "text/plain": [
       "                                            Features class\n",
       "0  [-317.11465, 132.31837, -20.725065, 38.583305,...   cat\n",
       "1  [-317.11465, 132.31837, -20.725065, 38.583305,...   cat\n",
       "2  [-317.11465, 132.31837, -20.725065, 38.583305,...   cat\n",
       "3  [-317.11465, 132.31837, -20.725065, 38.583305,...   cat\n",
       "4  [-317.11465, 132.31837, -20.725065, 38.583305,...   cat"
      ]
     },
     "execution_count": 16,
     "metadata": {},
     "output_type": "execute_result"
    }
   ],
   "source": [
    "import pandas as pd\n",
    "extracted_features_df=pd.DataFrame(d)\n",
    "extracted_features_df.head()"
   ]
  },
  {
   "cell_type": "code",
   "execution_count": 17,
   "id": "c4ecde02",
   "metadata": {},
   "outputs": [],
   "source": [
    "### Split the dataset into independent and dependent dataset\n",
    "X=np.array(dataset)\n",
    "#(extracted_features_df['Features'].tolist())\n",
    "y=np.array(extracted_features_df['class'].tolist())"
   ]
  },
  {
   "cell_type": "code",
   "execution_count": 18,
   "id": "f8d38857",
   "metadata": {},
   "outputs": [
    {
     "data": {
      "text/plain": [
       "(3878, 40)"
      ]
     },
     "execution_count": 18,
     "metadata": {},
     "output_type": "execute_result"
    }
   ],
   "source": [
    "X.shape"
   ]
  },
  {
   "cell_type": "code",
   "execution_count": 19,
   "id": "75ec043b",
   "metadata": {},
   "outputs": [
    {
     "data": {
      "text/plain": [
       "array(['cat', 'cat', 'cat', ..., 'dog', 'dog', 'dog'], dtype='<U3')"
      ]
     },
     "execution_count": 19,
     "metadata": {},
     "output_type": "execute_result"
    }
   ],
   "source": [
    "y"
   ]
  },
  {
   "cell_type": "code",
   "execution_count": 20,
   "id": "c53edac8",
   "metadata": {},
   "outputs": [],
   "source": [
    "### Label Encoding\n",
    "###y=np.array(pd.get_dummies(y))\n",
    "### Label Encoder\n",
    "from tensorflow.keras.utils import to_categorical\n",
    "from sklearn.preprocessing import LabelEncoder\n",
    "labelencoder=LabelEncoder()\n",
    "y=to_categorical(labelencoder.fit_transform(y))"
   ]
  },
  {
   "cell_type": "code",
   "execution_count": 21,
   "id": "6672df52",
   "metadata": {},
   "outputs": [],
   "source": [
    "### Train Test Split\n",
    "from sklearn.model_selection import train_test_split\n",
    "X_train,X_test,y_train,y_test=train_test_split(X,y,test_size=0.2,random_state=0)"
   ]
  },
  {
   "cell_type": "code",
   "execution_count": 22,
   "id": "69b27eb5",
   "metadata": {},
   "outputs": [
    {
     "data": {
      "text/plain": [
       "(3102, 40)"
      ]
     },
     "execution_count": 22,
     "metadata": {},
     "output_type": "execute_result"
    }
   ],
   "source": [
    "X_train.shape"
   ]
  },
  {
   "cell_type": "code",
   "execution_count": 23,
   "id": "e3fd6240",
   "metadata": {},
   "outputs": [
    {
     "data": {
      "text/plain": [
       "(776, 40)"
      ]
     },
     "execution_count": 23,
     "metadata": {},
     "output_type": "execute_result"
    }
   ],
   "source": [
    "X_test.shape"
   ]
  },
  {
   "cell_type": "code",
   "execution_count": 24,
   "id": "744c41a0",
   "metadata": {},
   "outputs": [
    {
     "data": {
      "text/plain": [
       "(3102, 2)"
      ]
     },
     "execution_count": 24,
     "metadata": {},
     "output_type": "execute_result"
    }
   ],
   "source": [
    "y_train.shape"
   ]
  },
  {
   "cell_type": "code",
   "execution_count": 25,
   "id": "0cc89e2b",
   "metadata": {},
   "outputs": [
    {
     "data": {
      "text/plain": [
       "(776, 2)"
      ]
     },
     "execution_count": 25,
     "metadata": {},
     "output_type": "execute_result"
    }
   ],
   "source": [
    "y_test.shape"
   ]
  },
  {
   "cell_type": "code",
   "execution_count": 26,
   "id": "7b804b71",
   "metadata": {},
   "outputs": [],
   "source": [
    "X_train=np.reshape(X_train,(X_train.shape[0],10,4,1))\n",
    "X_test=np.reshape(X_test,(X_test.shape[0],10,4,1))"
   ]
  },
  {
   "cell_type": "code",
   "execution_count": 27,
   "id": "5be05bf5",
   "metadata": {},
   "outputs": [],
   "source": [
    "INPUTSHAPE = (10,4,1)"
   ]
  },
  {
   "cell_type": "code",
   "execution_count": null,
   "id": "ad400b35",
   "metadata": {},
   "outputs": [],
   "source": [
    "## Model Architecture"
   ]
  },
  {
   "cell_type": "code",
   "execution_count": 28,
   "id": "a775e5d6",
   "metadata": {},
   "outputs": [
    {
     "name": "stdout",
     "output_type": "stream",
     "text": [
      "Model: \"sequential\"\n",
      "_________________________________________________________________\n",
      " Layer (type)                Output Shape              Param #   \n",
      "=================================================================\n",
      " conv2d (Conv2D)             (None, 8, 2, 32)          320       \n",
      "                                                                 \n",
      " max_pooling2d (MaxPooling2D  (None, 4, 1, 32)         0         \n",
      " )                                                               \n",
      "                                                                 \n",
      " flatten (Flatten)           (None, 128)               0         \n",
      "                                                                 \n",
      " dense (Dense)               (None, 512)               66048     \n",
      "                                                                 \n",
      " dense_1 (Dense)             (None, 2)                 1026      \n",
      "                                                                 \n",
      "=================================================================\n",
      "Total params: 67,394\n",
      "Trainable params: 67,394\n",
      "Non-trainable params: 0\n",
      "_________________________________________________________________\n"
     ]
    }
   ],
   "source": [
    "model = Sequential([\n",
    "    \n",
    "                          layers.Conv2D(32 , (3,3),activation = 'relu',padding='valid', input_shape = INPUTSHAPE),  \n",
    "                          layers.MaxPooling2D(2, padding='same'),\n",
    "                          #layers.Conv2D(128, (3,3), activation='relu',padding='valid'),\n",
    "                          #layers.MaxPooling2D(2, padding='same'),\n",
    "                          #layers.Dropout(0.3),\n",
    "                          #layers.Conv2D(128, (3,3), activation='relu',padding='valid'),\n",
    "                          #layers.MaxPooling2D(2, padding='same'),\n",
    "                          #layers.Dropout(0.3),\n",
    "                          #layers.GlobalAveragePooling2D(),\n",
    "                          layers.Flatten(),\n",
    "                          layers.Dense(512 , activation = 'relu'),\n",
    "                          layers.Dense(2 , activation = 'softmax')\n",
    "])\n",
    "\n",
    "model.compile(loss = 'binary_crossentropy', optimizer = 'adam', metrics = 'acc')\n",
    "model.summary()"
   ]
  },
  {
   "cell_type": "code",
   "execution_count": 29,
   "id": "289f5fbc",
   "metadata": {},
   "outputs": [
    {
     "name": "stdout",
     "output_type": "stream",
     "text": [
      "Epoch 1/40\n",
      "388/388 [==============================] - 4s 5ms/step - loss: 0.2427 - acc: 0.9149 - val_loss: 0.1504 - val_acc: 0.9317\n",
      "Epoch 2/40\n",
      "388/388 [==============================] - 2s 6ms/step - loss: 0.0719 - acc: 0.9745 - val_loss: 0.0284 - val_acc: 0.9987\n",
      "Epoch 3/40\n",
      "388/388 [==============================] - 2s 6ms/step - loss: 0.0224 - acc: 0.9948 - val_loss: 0.0239 - val_acc: 0.9974\n",
      "Epoch 4/40\n",
      "388/388 [==============================] - 3s 7ms/step - loss: 0.0319 - acc: 0.9884 - val_loss: 0.0029 - val_acc: 1.0000\n",
      "Epoch 5/40\n",
      "388/388 [==============================] - 2s 5ms/step - loss: 0.0016 - acc: 1.0000 - val_loss: 0.0014 - val_acc: 1.0000\n",
      "Epoch 6/40\n",
      "388/388 [==============================] - 2s 6ms/step - loss: 9.0368e-04 - acc: 1.0000 - val_loss: 7.7037e-04 - val_acc: 1.0000\n",
      "Epoch 7/40\n",
      "388/388 [==============================] - 2s 5ms/step - loss: 6.1488e-04 - acc: 1.0000 - val_loss: 5.3173e-04 - val_acc: 1.0000\n",
      "Epoch 8/40\n",
      "388/388 [==============================] - 2s 6ms/step - loss: 4.2054e-04 - acc: 1.0000 - val_loss: 3.5691e-04 - val_acc: 1.0000\n",
      "Epoch 9/40\n",
      "388/388 [==============================] - 3s 8ms/step - loss: 2.7416e-04 - acc: 1.0000 - val_loss: 2.4905e-04 - val_acc: 1.0000\n",
      "Epoch 10/40\n",
      "388/388 [==============================] - 2s 6ms/step - loss: 1.8952e-04 - acc: 1.0000 - val_loss: 1.6830e-04 - val_acc: 1.0000\n",
      "Epoch 11/40\n",
      "388/388 [==============================] - 2s 5ms/step - loss: 1.2999e-04 - acc: 1.0000 - val_loss: 1.2041e-04 - val_acc: 1.0000\n",
      "Epoch 12/40\n",
      "388/388 [==============================] - 2s 5ms/step - loss: 9.2555e-05 - acc: 1.0000 - val_loss: 8.5506e-05 - val_acc: 1.0000\n",
      "Epoch 13/40\n",
      "388/388 [==============================] - 2s 5ms/step - loss: 6.4435e-05 - acc: 1.0000 - val_loss: 6.5655e-05 - val_acc: 1.0000\n",
      "Epoch 14/40\n",
      "388/388 [==============================] - 2s 5ms/step - loss: 4.5652e-05 - acc: 1.0000 - val_loss: 4.2788e-05 - val_acc: 1.0000\n",
      "Epoch 15/40\n",
      "388/388 [==============================] - 2s 5ms/step - loss: 3.3340e-05 - acc: 1.0000 - val_loss: 3.2419e-05 - val_acc: 1.0000\n",
      "Epoch 16/40\n",
      "388/388 [==============================] - 2s 5ms/step - loss: 2.4420e-05 - acc: 1.0000 - val_loss: 2.2747e-05 - val_acc: 1.0000\n",
      "Epoch 17/40\n",
      "388/388 [==============================] - 2s 6ms/step - loss: 1.7980e-05 - acc: 1.0000 - val_loss: 1.7599e-05 - val_acc: 1.0000\n",
      "Epoch 18/40\n",
      "388/388 [==============================] - 3s 8ms/step - loss: 1.3221e-05 - acc: 1.0000 - val_loss: 1.3052e-05 - val_acc: 1.0000\n",
      "Epoch 19/40\n",
      "388/388 [==============================] - 2s 6ms/step - loss: 1.0185e-05 - acc: 1.0000 - val_loss: 1.0732e-05 - val_acc: 1.0000\n",
      "Epoch 20/40\n",
      "388/388 [==============================] - 2s 5ms/step - loss: 7.8404e-06 - acc: 1.0000 - val_loss: 7.3622e-06 - val_acc: 1.0000\n",
      "Epoch 21/40\n",
      "388/388 [==============================] - 3s 7ms/step - loss: 5.8493e-06 - acc: 1.0000 - val_loss: 5.6502e-06 - val_acc: 1.0000\n",
      "Epoch 22/40\n",
      "388/388 [==============================] - 3s 8ms/step - loss: 4.5133e-06 - acc: 1.0000 - val_loss: 4.5384e-06 - val_acc: 1.0000\n",
      "Epoch 23/40\n",
      "388/388 [==============================] - 3s 8ms/step - loss: 3.5274e-06 - acc: 1.0000 - val_loss: 3.4417e-06 - val_acc: 1.0000\n",
      "Epoch 24/40\n",
      "388/388 [==============================] - 3s 7ms/step - loss: 2.6933e-06 - acc: 1.0000 - val_loss: 2.8152e-06 - val_acc: 1.0000\n",
      "Epoch 25/40\n",
      "388/388 [==============================] - 2s 4ms/step - loss: 2.1248e-06 - acc: 1.0000 - val_loss: 2.0806e-06 - val_acc: 1.0000\n",
      "Epoch 26/40\n",
      "388/388 [==============================] - 2s 6ms/step - loss: 1.6649e-06 - acc: 1.0000 - val_loss: 1.6006e-06 - val_acc: 1.0000\n",
      "Epoch 27/40\n",
      "388/388 [==============================] - 3s 7ms/step - loss: 1.2930e-06 - acc: 1.0000 - val_loss: 1.2613e-06 - val_acc: 1.0000\n",
      "Epoch 28/40\n",
      "388/388 [==============================] - 3s 8ms/step - loss: 1.0333e-06 - acc: 1.0000 - val_loss: 1.0893e-06 - val_acc: 1.0000\n",
      "Epoch 29/40\n",
      "388/388 [==============================] - 3s 8ms/step - loss: 8.0447e-07 - acc: 1.0000 - val_loss: 8.3608e-07 - val_acc: 1.0000\n",
      "Epoch 30/40\n",
      "388/388 [==============================] - 3s 7ms/step - loss: 6.3336e-07 - acc: 1.0000 - val_loss: 6.1596e-07 - val_acc: 1.0000\n",
      "Epoch 31/40\n",
      "388/388 [==============================] - 2s 5ms/step - loss: 4.9508e-07 - acc: 1.0000 - val_loss: 5.0114e-07 - val_acc: 1.0000\n",
      "Epoch 32/40\n",
      "388/388 [==============================] - 3s 7ms/step - loss: 4.0346e-07 - acc: 1.0000 - val_loss: 3.9132e-07 - val_acc: 1.0000\n",
      "Epoch 33/40\n",
      "388/388 [==============================] - 3s 7ms/step - loss: 3.2384e-07 - acc: 1.0000 - val_loss: 3.1867e-07 - val_acc: 1.0000\n",
      "Epoch 34/40\n",
      "388/388 [==============================] - 3s 8ms/step - loss: 2.5655e-07 - acc: 1.0000 - val_loss: 2.4578e-07 - val_acc: 1.0000\n",
      "Epoch 35/40\n",
      "388/388 [==============================] - 3s 7ms/step - loss: 2.0551e-07 - acc: 1.0000 - val_loss: 1.9570e-07 - val_acc: 1.0000\n",
      "Epoch 36/40\n",
      "388/388 [==============================] - 3s 8ms/step - loss: 1.6223e-07 - acc: 1.0000 - val_loss: 1.5804e-07 - val_acc: 1.0000\n",
      "Epoch 37/40\n",
      "388/388 [==============================] - 3s 8ms/step - loss: 1.2794e-07 - acc: 1.0000 - val_loss: 1.4527e-07 - val_acc: 1.0000\n",
      "Epoch 38/40\n",
      "388/388 [==============================] - 3s 7ms/step - loss: 1.0411e-07 - acc: 1.0000 - val_loss: 1.0366e-07 - val_acc: 1.0000\n",
      "Epoch 39/40\n",
      "388/388 [==============================] - 3s 8ms/step - loss: 8.4679e-08 - acc: 1.0000 - val_loss: 8.6304e-08 - val_acc: 1.0000\n",
      "Epoch 40/40\n",
      "388/388 [==============================] - 3s 8ms/step - loss: 6.8629e-08 - acc: 1.0000 - val_loss: 6.5761e-08 - val_acc: 1.0000\n"
     ]
    }
   ],
   "source": [
    "batch_size = 8\n",
    "callback = tf.keras.callbacks.EarlyStopping(\n",
    "    monitor='val_loss', min_delta=0, patience=8, verbose=0, mode='auto',\n",
    "    baseline=None, restore_best_weights=False)\n",
    "#checkpointer = ModelCheckpoint(filepath='saved_models/audio_classification.hdf5', \n",
    "                             # verbose=1, save_best_only=True)\n",
    "history = model.fit(X_train,y_train ,validation_data=(X_test,y_test),\n",
    "            epochs=40,\n",
    "            callbacks = [callback],batch_size=batch_size)"
   ]
  },
  {
   "cell_type": "code",
   "execution_count": 30,
   "id": "5fd8a5cc",
   "metadata": {},
   "outputs": [
    {
     "data": {
      "image/png": "[encoded data removed]",
      "text/plain": [
       "<Figure size 432x288 with 1 Axes>"
      ]
     },
     "metadata": {
      "needs_background": "light"
     },
     "output_type": "display_data"
    },
    {
     "data": {
      "image/png": "[encoded data removed]",
      "text/plain": [
       "<Figure size 432x288 with 1 Axes>"
      ]
     },
     "metadata": {
      "needs_background": "light"
     },
     "output_type": "display_data"
    }
   ],
   "source": [
    "import matplotlib.pyplot as plt\n",
    "plt.plot(history.history['acc'])\n",
    "plt.plot(history.history['val_acc'])\n",
    "plt.title('model accuracy')\n",
    "plt.ylabel('accuracy')\n",
    "plt.xlabel('epoch')\n",
    "plt.legend(['train', 'validation'], loc='upper left')\n",
    "plt.show()\n",
    "\n",
    "\n",
    "plt.plot(history.history['loss'])\n",
    "plt.plot(history.history['val_loss'])\n",
    "plt.title('model loss')\n",
    "plt.ylabel('loss')\n",
    "plt.xlabel('epoch')\n",
    "plt.legend(['train', 'validation'], loc='upper left')\n",
    "plt.show()"
   ]
  },
  {
   "cell_type": "code",
   "execution_count": 31,
   "id": "5f6c00d6",
   "metadata": {},
   "outputs": [],
   "source": [
    "%matplotlib inline\n",
    "from sklearn.metrics import confusion_matrix\n",
    "import itertools\n",
    "import matplotlib.pyplot as plt"
   ]
  },
  {
   "cell_type": "code",
   "execution_count": 32,
   "id": "7b7da681",
   "metadata": {},
   "outputs": [
    {
     "name": "stdout",
     "output_type": "stream",
     "text": [
      "25/25 [==============================] - 0s 2ms/step\n"
     ]
    }
   ],
   "source": [
    "y_pred=model.predict(X_test)"
   ]
  },
  {
   "cell_type": "code",
   "execution_count": 33,
   "id": "3b507afa",
   "metadata": {},
   "outputs": [],
   "source": [
    "round_off=np.round_(y_pred)"
   ]
  },
  {
   "cell_type": "code",
   "execution_count": 34,
   "id": "aa84b5e6",
   "metadata": {},
   "outputs": [
    {
     "name": "stdout",
     "output_type": "stream",
     "text": [
      "Confusion Matrix\n",
      "[[464   0]\n",
      " [  0 312]]\n"
     ]
    },
    {
     "data": {
      "image/png": "[encoded data removed]",
      "text/plain": [
       "<Figure size 360x360 with 2 Axes>"
      ]
     },
     "metadata": {
      "needs_background": "light"
     },
     "output_type": "display_data"
    }
   ],
   "source": [
    "import seaborn as sns\n",
    "from sklearn.metrics import plot_confusion_matrix\n",
    "cm=confusion_matrix(y_test.argmax(axis=1),round_off.argmax(axis=1))\n",
    "print(\"Confusion Matrix\")\n",
    "print(cm)\n",
    "\n",
    "plt.figure(figsize=(5,5))\n",
    "sns.heatmap(cm,annot=True,fmt=\"d\",cmap='Set3')\n",
    "plt.title(\"Confusion Matrix\")\n",
    "plt.ylabel(\"True class\")\n",
    "plt.xlabel(\"Predicted class\")\n",
    "plt.show()"
   ]
  },
  {
   "cell_type": "code",
   "execution_count": 39,
   "id": "5200a8dc",
   "metadata": {},
   "outputs": [
    {
     "name": "stdout",
     "output_type": "stream",
     "text": [
      "1/1 [==============================] - 0s 74ms/step\n",
      "dog_barking\n"
     ]
    }
   ],
   "source": [
    "mydict = {'cat': 0, 'dog_barking': 1}\n",
    "import librosa\n",
    "audio_file_path=\"C:/Users/swaru/Downloads/dog_test.wav\"\n",
    "librosa_audio_data,librosa_sample_rate=librosa.load(audio_file_path)\n",
    "mfccs = np.mean(librosa.feature.mfcc(y=librosa_audio_data, sr=librosa_sample_rate, n_mfcc=40).T,axis=0)\n",
    "x=[]\n",
    "x.append(mfccs)\n",
    "x=np.array(x)\n",
    "x=np.reshape(x,(x.shape[0],10,4,1))\n",
    "y_pre=model.predict(x)\n",
    "y_pre=np.round_(y_pre)\n",
    "a,b=np.where(y_pre==1)\n",
    "for gerne, classs in mydict.items(): \n",
    "    if classs == b[0]:\n",
    "        print(gerne)"
   ]
  },
  {
   "cell_type": "code",
   "execution_count": null,
   "id": "3b9b2113",
   "metadata": {},
   "outputs": [],
   "source": []
  },
  {
   "cell_type": "code",
   "execution_count": null,
   "id": "09c8d1cc",
   "metadata": {},
   "outputs": [],
   "source": []
  }
 ],
 "metadata": {
  "kernelspec": {
   "display_name": "Python 3 (ipykernel)",
   "language": "python",
   "name": "python3"
  },
  "language_info": {
   "codemirror_mode": {
    "name": "ipython",
    "version": 3
   },
   "file_extension": ".py",
   "mimetype": "text/x-python",
   "name": "python",
   "nbconvert_exporter": "python",
   "pygments_lexer": "ipython3",
   "version": "3.9.7"
  }
 },
 "nbformat": 4,
 "nbformat_minor": 5
}
